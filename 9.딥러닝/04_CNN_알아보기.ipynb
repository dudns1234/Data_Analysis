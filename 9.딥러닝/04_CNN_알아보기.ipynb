{
  "nbformat": 4,
  "nbformat_minor": 0,
  "metadata": {
    "colab": {
      "provenance": [],
      "include_colab_link": true
    },
    "kernelspec": {
      "name": "python3",
      "display_name": "Python 3"
    },
    "language_info": {
      "name": "python"
    },
    "accelerator": "GPU"
  },
  "cells": [
    {
      "cell_type": "markdown",
      "metadata": {
        "id": "view-in-github",
        "colab_type": "text"
      },
      "source": [
        "<a href=\"https://colab.research.google.com/github/dudns1234/Data_Analysis/blob/master/04_CNN_%EC%95%8C%EC%95%84%EB%B3%B4%EA%B8%B0.ipynb\" target=\"_parent\"><img src=\"https://colab.research.google.com/assets/colab-badge.svg\" alt=\"Open In Colab\"/></a>"
      ]
    },
    {
      "cell_type": "markdown",
      "metadata": {
        "id": "y7n0OqA-hFq5"
      },
      "source": [
        "# MNIST 데이터 준비 및 시각화"
      ]
    },
    {
      "cell_type": "code",
      "metadata": {
        "id": "Gq_Sz2omhX27"
      },
      "source": [
        "import tensorflow as tf\n",
        "from tensorflow.keras import datasets\n",
        "\n",
        "import matplotlib.pyplot as plt"
      ],
      "execution_count": 1,
      "outputs": []
    },
    {
      "cell_type": "code",
      "metadata": {
        "colab": {
          "base_uri": "https://localhost:8080/"
        },
        "id": "VcchuTrvhc2R",
        "outputId": "1ea16262-7679-41cb-893d-ff115853bf39"
      },
      "source": [
        "(X_train, y_train), (X_test, y_test) = datasets.mnist.load_data()"
      ],
      "execution_count": 2,
      "outputs": [
        {
          "output_type": "stream",
          "name": "stdout",
          "text": [
            "Downloading data from https://storage.googleapis.com/tensorflow/tf-keras-datasets/mnist.npz\n",
            "11490434/11490434 [==============================] - 0s 0us/step\n"
          ]
        }
      ]
    },
    {
      "cell_type": "markdown",
      "metadata": {
        "id": "pyG0-JNQhqR0"
      },
      "source": [
        "## 이미지 시각화 및 형상(shape) 확인"
      ]
    },
    {
      "cell_type": "code",
      "metadata": {
        "colab": {
          "base_uri": "https://localhost:8080/"
        },
        "id": "0TdRIEb_iA-L",
        "outputId": "7a88e1e3-59d6-456f-b397-0794fd32e3af"
      },
      "source": [
        "image = X_train[0]\n",
        "image.shape"
      ],
      "execution_count": 3,
      "outputs": [
        {
          "output_type": "execute_result",
          "data": {
            "text/plain": [
              "(28, 28)"
            ]
          },
          "metadata": {},
          "execution_count": 3
        }
      ]
    },
    {
      "cell_type": "code",
      "metadata": {
        "colab": {
          "base_uri": "https://localhost:8080/",
          "height": 452
        },
        "id": "nm6vZfDxiIZY",
        "outputId": "5b39232c-51b1-4f9f-bf1a-0980069e42a0"
      },
      "source": [
        "plt.imshow(image, 'gray')\n",
        "plt.title(y_train[0])\n",
        "plt.show()"
      ],
      "execution_count": 4,
      "outputs": [
        {
          "output_type": "display_data",
          "data": {
            "text/plain": [
              "<Figure size 640x480 with 1 Axes>"
            ],
            "image/png": "[encoded data removed]"
          },
          "metadata": {}
        }
      ]
    },
    {
      "cell_type": "markdown",
      "metadata": {
        "id": "eqLDcQHZiWeP"
      },
      "source": [
        "## CNN 레이어에 삽입하기 위한 배열 편집\n",
        "* 4차원 형태의 데이터를 유지해야 한다.\n",
        "* `(N, H, W, C)` -> `(배치크기, 높이, 가로, 채널수)`\n",
        "* MNIST 손글씨 이미지 : 높이 - 28px, 가로 - 28px, 채널 - 1ch\n",
        "* 1장의 이미지 - `(28, 28)` -> `(1, 28, 28, 1)`로 바꿔줘야 한다."
      ]
    },
    {
      "cell_type": "code",
      "metadata": {
        "colab": {
          "base_uri": "https://localhost:8080/"
        },
        "id": "Vsfrz9OMiqBD",
        "outputId": "cd89cd97-8fa1-4455-c3ba-80abcd9df3ea"
      },
      "source": [
        "image = image[tf.newaxis, ..., tf.newaxis]\n",
        "image.shape"
      ],
      "execution_count": 5,
      "outputs": [
        {
          "output_type": "execute_result",
          "data": {
            "text/plain": [
              "(1, 28, 28, 1)"
            ]
          },
          "metadata": {},
          "execution_count": 5
        }
      ]
    },
    {
      "cell_type": "markdown",
      "metadata": {
        "id": "7X7lDHlDjUZx"
      },
      "source": [
        "# Conv 레이어 사용하기\n",
        "keras의 대표적인 CNN 레이어는 두가지가 있다.\n",
        "1. Conv2D\n",
        "  * `stride`가 2 방향으로 움직인다.( 가로, 세로 )\n",
        "  * 이미지 분석을 위해 사용되는 일반적인 합성곱 레이어\n",
        "2. Conv1D\n",
        "  * `stride`가 1 방향으로 움직인다. (세로)\n",
        "  * 텍스트 분석을 위해 사용되는 레이어. ( 대표적인 예 `char CNN` )"
      ]
    },
    {
      "cell_type": "markdown",
      "metadata": {
        "id": "2qcAW-sUku5v"
      },
      "source": [
        "# Conv2D 매개변수 확인\n",
        "* `filters` : 필터의 개수 ($C_{out}$)\n",
        "* `kernel_size`: 필터의 크기 ($K_H$, $K_W$)\n",
        "* `strides` : 몇 개의 픽셀을 스킵하면서 필터가 훑게 할지 결정 ( 스트라이드가 커지면 출력 특징맵의 크기가 줄어 든다)\n",
        "* `padding`: 0으로 쌓여진 패딩을 만들 것인지에 대한 설정\n",
        "  * `VALID` : 패딩을 만들지 않는다.\n",
        "  * `SAME`  : 한개 짜리 패딩 생성 - 이미지 주변을 한줄로 감싸기\n",
        "* `activation`: 활성화 함수 지정하기. 따로 지정하지 않고 추후에 레이어로 추가 가능\n",
        "\n"
      ]
    },
    {
      "cell_type": "code",
      "metadata": {
        "colab": {
          "base_uri": "https://localhost:8080/"
        },
        "id": "gwmfcbrFmn1F",
        "outputId": "d3c641ae-7cd4-4889-b681-bda10762bab5"
      },
      "source": [
        "tf.keras.layers.Conv2D(\n",
        "    filters = 3, # 필터 개수\n",
        "    kernel_size = (3, 3), # 필터 ( 세로, 가로 ) 크기 1 x 1, 3 x 3, 5 x 5, 7 x 7 필터를 주로 사용\n",
        "    strides=(1, 1), # 이동 크기\n",
        "    padding='SAME', # 패딩 여부 ( same - 패딩 적용, valid - 패딩 미적용 )\n",
        "    activation='relu' # 활성화 함수 적용 (여기서 안넣고 레이어로 따로 추가 가능.)\n",
        ")"
      ],
      "execution_count": 6,
      "outputs": [
        {
          "output_type": "execute_result",
          "data": {
            "text/plain": [
              "<keras.src.layers.convolutional.conv2d.Conv2D at 0x787c429dba30>"
            ]
          },
          "metadata": {},
          "execution_count": 6
        }
      ]
    },
    {
      "cell_type": "code",
      "metadata": {
        "colab": {
          "base_uri": "https://localhost:8080/"
        },
        "id": "sNTx63A6n_TS",
        "outputId": "31fbfd37-7485-4a9e-e757-181a1a297733"
      },
      "source": [
        "# 필터의 세로 가로 크기 및 스트라이드의 세로 가로를 똑같이 하려면 굳이 튜플을 쓸 필욘 없다.\n",
        "tf.keras.layers.Conv2D(\n",
        "    filters=3,\n",
        "    kernel_size=3, # 3 x 3 필터\n",
        "    strides=1, # 1 x 1 stirde\n",
        "    padding='SAME',\n",
        "    activation='relu'\n",
        ")"
      ],
      "execution_count": 7,
      "outputs": [
        {
          "output_type": "execute_result",
          "data": {
            "text/plain": [
              "<keras.src.layers.convolutional.conv2d.Conv2D at 0x787c3f4135e0>"
            ]
          },
          "metadata": {},
          "execution_count": 7
        }
      ]
    },
    {
      "cell_type": "markdown",
      "metadata": {
        "id": "gjrEihOXoi_D"
      },
      "source": [
        "## Convolution 레이어 시각화"
      ]
    },
    {
      "cell_type": "code",
      "metadata": {
        "colab": {
          "base_uri": "https://localhost:8080/"
        },
        "id": "hUW5PSOuo2d9",
        "outputId": "54557751-b0e5-44fe-dbf5-5cb0f54607c2"
      },
      "source": [
        "image = tf.cast(image, dtype=tf.float32)\n",
        "image.dtype"
      ],
      "execution_count": 8,
      "outputs": [
        {
          "output_type": "execute_result",
          "data": {
            "text/plain": [
              "tf.float32"
            ]
          },
          "metadata": {},
          "execution_count": 8
        }
      ]
    },
    {
      "cell_type": "code",
      "metadata": {
        "id": "wujvoaPlo7Ky"
      },
      "source": [
        "layer = tf.keras.layers.Conv2D(filters=5, kernel_size=3, strides=1, padding='SAME')"
      ],
      "execution_count": 9,
      "outputs": []
    },
    {
      "cell_type": "code",
      "metadata": {
        "colab": {
          "base_uri": "https://localhost:8080/"
        },
        "id": "hs79CHZ4pMds",
        "outputId": "3c3bdd78-d51b-48ab-85b3-0972d12b58ac"
      },
      "source": [
        "output = layer(image) # image를 레이어에 통과 시킴\n",
        "output.shape"
      ],
      "execution_count": 10,
      "outputs": [
        {
          "output_type": "execute_result",
          "data": {
            "text/plain": [
              "TensorShape([1, 28, 28, 5])"
            ]
          },
          "metadata": {},
          "execution_count": 10
        }
      ]
    },
    {
      "cell_type": "markdown",
      "metadata": {
        "id": "ClAushhxqYIu"
      },
      "source": [
        "출력 특징 맵이 5개!"
      ]
    },
    {
      "cell_type": "code",
      "metadata": {
        "colab": {
          "base_uri": "https://localhost:8080/",
          "height": 302
        },
        "id": "YWC_coJpqbwG",
        "outputId": "94962799-6c5a-4ae0-d2ad-c615f21b825b"
      },
      "source": [
        "_, axes = plt.subplots(nrows=1, ncols=6, figsize=(20, 10))\n",
        "axes[0].imshow(image[0, ..., 0], cmap='gray')\n",
        "axes[0].set_title(\"Original Image\")\n",
        "\n",
        "for idx, ax in enumerate(axes[1:]):\n",
        "  ax.set_title(\"Output Feature Map : {}\".format(idx + 1))\n",
        "  ax.imshow(output[0, ..., idx], cmap='gray')\n",
        "\n",
        "plt.show()"
      ],
      "execution_count": 11,
      "outputs": [
        {
          "output_type": "display_data",
          "data": {
            "text/plain": [
              "<Figure size 2000x1000 with 6 Axes>"
            ],
            "image/png": "[encoded data removed]"
          },
          "metadata": {}
        }
      ]
    },
    {
      "cell_type": "markdown",
      "metadata": {
        "id": "vfXVp1X_vxG4"
      },
      "source": [
        "## Filter 시각화 하기\n",
        "* CNN에서 Filter의 역할은 실제 CNN 레이어가 이미지의 무엇을 보고 있는가를 이야기 한다.\n",
        "* `keras`의 레이어들은 `get_weights()` 함수를 이용해서 편향과, 가중치 등을 볼 수 있다."
      ]
    },
    {
      "cell_type": "code",
      "metadata": {
        "id": "tPzJCDcWwb1c"
      },
      "source": [
        "# Conv2D 레이어의 필터 모양 : ( 3, 3, 1, 5 ) - ( 필터 세로, 필터 가로, 입력 특징 맵의 채널 개수, 출력 특징 맵의 채널 개수)\n",
        "weights = layer.get_weights()"
      ],
      "execution_count": 12,
      "outputs": []
    },
    {
      "cell_type": "markdown",
      "metadata": {
        "id": "fHs2DbIhxKbz"
      },
      "source": [
        "* `weights[0]` : 가중치가 들어 있음\n",
        "* `weights[1]` : 편향이 들어 있음\n"
      ]
    },
    {
      "cell_type": "code",
      "metadata": {
        "colab": {
          "base_uri": "https://localhost:8080/"
        },
        "id": "TzFxIgMFxQTu",
        "outputId": "4e8485e3-9c54-4a64-95d7-208cbf69108a"
      },
      "source": [
        "print(\"가중치(필터)의 형상 : {}\".format(weights[0].shape))\n",
        "print(\"편향의 형상 : {}\".format(weights[1].shape))"
      ],
      "execution_count": 13,
      "outputs": [
        {
          "output_type": "stream",
          "name": "stdout",
          "text": [
            "가중치(필터)의 형상 : (3, 3, 1, 5)\n",
            "편향의 형상 : (5,)\n"
          ]
        }
      ]
    },
    {
      "cell_type": "code",
      "metadata": {
        "colab": {
          "base_uri": "https://localhost:8080/",
          "height": 342
        },
        "id": "Q53v-338xah5",
        "outputId": "5c30e0e6-d48b-4bcc-ade8-193ebea2bd20"
      },
      "source": [
        "_, axes = plt.subplots(nrows=1, ncols=5, figsize=(20, 10))\n",
        "\n",
        "for idx, ax in enumerate(axes):\n",
        "  ax.set_title(\"Filter {}\".format(idx + 1))\n",
        "  ax.imshow(weights[0][..., 0, idx], cmap='gray')\n",
        "\n",
        "plt.show()"
      ],
      "execution_count": 14,
      "outputs": [
        {
          "output_type": "display_data",
          "data": {
            "text/plain": [
              "<Figure size 2000x1000 with 5 Axes>"
            ],
            "image/png": "[encoded data removed]"
          },
          "metadata": {}
        }
      ]
    },
    {
      "cell_type": "markdown",
      "metadata": {
        "id": "61fwAgzxx2bE"
      },
      "source": [
        "# ReLU 레이어 사용하기\n",
        "* 이미지 분석에서 `ReLU` 가 자주 사용된다.\n",
        "* 이미지 데이터에서 음수 데이터는 필요가 없는 데이터이다.\n",
        "  * 필요 없는 음수 데이터는 제거하고, 의미 있는 양수 데이터만 강조하기 위해서 `ReLU`가 일반적으로 사용된다."
      ]
    },
    {
      "cell_type": "code",
      "metadata": {
        "colab": {
          "base_uri": "https://localhost:8080/"
        },
        "id": "5MOU35oFycB-",
        "outputId": "03ef5b36-5a6d-4d4a-dccf-7dfaccbd40e3"
      },
      "source": [
        "import numpy as np\n",
        "np.min(output), np.max(output)"
      ],
      "execution_count": 15,
      "outputs": [
        {
          "output_type": "execute_result",
          "data": {
            "text/plain": [
              "(-101.410835, 351.65604)"
            ]
          },
          "metadata": {},
          "execution_count": 15
        }
      ]
    },
    {
      "cell_type": "code",
      "metadata": {
        "colab": {
          "base_uri": "https://localhost:8080/"
        },
        "id": "5a1cqyBky3r0",
        "outputId": "1badab56-0020-4af2-80e0-883e99f753a9"
      },
      "source": [
        "act_layer = tf.keras.layers.ReLU()\n",
        "act_output = act_layer(output) # 합성곱의 결과가 활성화 레이어로 들어간다.\n",
        "act_output.shape"
      ],
      "execution_count": 16,
      "outputs": [
        {
          "output_type": "execute_result",
          "data": {
            "text/plain": [
              "TensorShape([1, 28, 28, 5])"
            ]
          },
          "metadata": {},
          "execution_count": 16
        }
      ]
    },
    {
      "cell_type": "code",
      "metadata": {
        "colab": {
          "base_uri": "https://localhost:8080/"
        },
        "id": "F-EqvLAhzM8m",
        "outputId": "d72d2823-689b-46cb-ed5c-512026d1942e"
      },
      "source": [
        "np.min(act_output), np.max(act_output)"
      ],
      "execution_count": 17,
      "outputs": [
        {
          "output_type": "execute_result",
          "data": {
            "text/plain": [
              "(0.0, 351.65604)"
            ]
          },
          "metadata": {},
          "execution_count": 17
        }
      ]
    },
    {
      "cell_type": "markdown",
      "metadata": {
        "id": "potdarl0zS8W"
      },
      "source": [
        "## ReLU 시각화"
      ]
    },
    {
      "cell_type": "code",
      "metadata": {
        "colab": {
          "base_uri": "https://localhost:8080/",
          "height": 302
        },
        "id": "vA5H4JL8zeEl",
        "outputId": "aff4f081-7e81-4244-b106-392402b87d72"
      },
      "source": [
        "_, axes = plt.subplots(nrows=1, ncols=6, figsize=(20, 10))\n",
        "\n",
        "axes[0].imshow(image[0, ..., 0], cmap='gray')\n",
        "axes[0].set_title(\"Original Image\")\n",
        "\n",
        "for idx, ax in enumerate(axes[1:]):\n",
        "  ax.set_title(\"ReLU Output : {}\".format(idx + 1))\n",
        "  ax.imshow(act_output[0, ..., idx], cmap='gray')\n",
        "\n",
        "plt.show()"
      ],
      "execution_count": 18,
      "outputs": [
        {
          "output_type": "display_data",
          "data": {
            "text/plain": [
              "<Figure size 2000x1000 with 6 Axes>"
            ],
            "image/png": "[encoded data removed]"
          },
          "metadata": {}
        }
      ]
    },
    {
      "cell_type": "markdown",
      "metadata": {
        "id": "6V5GORBLzwLT"
      },
      "source": [
        "# MaxPooling 레이어 사용하기\n",
        "`Pooling`과정을 통해 이미지 축소 및 정보의 종합을 구현할 수 있다."
      ]
    },
    {
      "cell_type": "code",
      "metadata": {
        "colab": {
          "base_uri": "https://localhost:8080/"
        },
        "id": "byrbW4VP0ZK-",
        "outputId": "38bc8837-4f4c-49ba-a018-8173b488e002"
      },
      "source": [
        "pool_layer = tf.keras.layers.MaxPool2D(pool_size=(2, 2), strides=(2, 2), padding='SAME')\n",
        "pool_output = pool_layer(act_output)\n",
        "\n",
        "pool_output.shape"
      ],
      "execution_count": 19,
      "outputs": [
        {
          "output_type": "execute_result",
          "data": {
            "text/plain": [
              "TensorShape([1, 14, 14, 5])"
            ]
          },
          "metadata": {},
          "execution_count": 19
        }
      ]
    },
    {
      "cell_type": "markdown",
      "metadata": {
        "id": "3C9ctGM606CG"
      },
      "source": [
        "## MaxPooling 시각화"
      ]
    },
    {
      "cell_type": "code",
      "metadata": {
        "colab": {
          "base_uri": "https://localhost:8080/",
          "height": 302
        },
        "id": "KFzyIUuE1G6w",
        "outputId": "8ce4e09d-9a30-4b03-96cc-a2b58eee2433"
      },
      "source": [
        "_, axes = plt.subplots(nrows=1, ncols=6, figsize=(20, 10))\n",
        "\n",
        "axes[0].imshow(image[0, ..., 0], cmap='gray')\n",
        "axes[0].set_title(\"Original Image\")\n",
        "\n",
        "for idx, ax in enumerate(axes[1:]):\n",
        "  ax.set_title(\"MaxPool Output : {}\".format(idx + 1))\n",
        "  ax.imshow(pool_output[0, ..., idx], cmap='gray')\n",
        "\n",
        "plt.show()"
      ],
      "execution_count": 20,
      "outputs": [
        {
          "output_type": "display_data",
          "data": {
            "text/plain": [
              "<Figure size 2000x1000 with 6 Axes>"
            ],
            "image/png": "[encoded data removed]"
          },
          "metadata": {}
        }
      ]
    },
    {
      "cell_type": "markdown",
      "metadata": {
        "id": "2CbsmZrd1ZBJ"
      },
      "source": [
        "**여기까지의 과정을 특징 추출 과정(Feature Extraction)**"
      ]
    },
    {
      "cell_type": "markdown",
      "metadata": {
        "id": "EtkPNhI_2PuJ"
      },
      "source": [
        "# Flatten 레이어 확인하기\n",
        "* `MaxPool2D` 까지는 특징 추출 과정\n",
        "  * 예측을 하기 위한 과정이 아닌, 데이터(이미지)에 대한 특징만 추출\n",
        "* 예측을 수행하기 위해서는 `Fully Connected`(전결합) 과정이 필요하다.\n",
        "  * `Dense` 레이어를 사용한다.\n",
        "* `Fully Connected Layer`를 사용하기 위해서는 데이터가 **평탄화**되어 있어야 한다."
      ]
    },
    {
      "cell_type": "code",
      "metadata": {
        "colab": {
          "base_uri": "https://localhost:8080/"
        },
        "id": "Ce-ZBEJB3Aig",
        "outputId": "4eea6290-7940-456b-9608-3fa5a5ca3127"
      },
      "source": [
        "flatten_layer = tf.keras.layers.Flatten()\n",
        "flatten_output = flatten_layer(pool_output)\n",
        "\n",
        "flatten_output.shape"
      ],
      "execution_count": 21,
      "outputs": [
        {
          "output_type": "execute_result",
          "data": {
            "text/plain": [
              "TensorShape([1, 980])"
            ]
          },
          "metadata": {},
          "execution_count": 21
        }
      ]
    },
    {
      "cell_type": "markdown",
      "metadata": {
        "id": "77sO8HBe3UG-"
      },
      "source": [
        "# Dense 레이어 확인하기\n",
        "* 계산 과정 $WX+b$을 하기 위한 `Dense`레이어. `Fully Connected Layer` 라고도 한다."
      ]
    },
    {
      "cell_type": "code",
      "metadata": {
        "colab": {
          "base_uri": "https://localhost:8080/"
        },
        "id": "AryzwsAH3mAm",
        "outputId": "ea31fc2a-dc3a-4bb7-a14f-5420ad2b91c5"
      },
      "source": [
        "# 유닛이 32개인 Dense 레이어 만들기 - 은닉층\n",
        "dense_layer = tf.keras.layers.Dense(32, activation='relu')\n",
        "dense_output = dense_layer(flatten_output)\n",
        "\n",
        "dense_output.shape"
      ],
      "execution_count": 22,
      "outputs": [
        {
          "output_type": "execute_result",
          "data": {
            "text/plain": [
              "TensorShape([1, 32])"
            ]
          },
          "metadata": {},
          "execution_count": 22
        }
      ]
    },
    {
      "cell_type": "code",
      "metadata": {
        "colab": {
          "base_uri": "https://localhost:8080/"
        },
        "id": "hCmEmgC738d0",
        "outputId": "635fc331-e29d-430a-ff7b-5a72349337d8"
      },
      "source": [
        "# 출력층 설계\n",
        "# 숫자는 10 종류니까 출력층의 뉴런 개수도 10개\n",
        "dense_layer2 = tf.keras.layers.Dense(10, activation='softmax')\n",
        "dense_output2 = dense_layer2(dense_output)\n",
        "\n",
        "dense_output2.shape"
      ],
      "execution_count": 23,
      "outputs": [
        {
          "output_type": "execute_result",
          "data": {
            "text/plain": [
              "TensorShape([1, 10])"
            ]
          },
          "metadata": {},
          "execution_count": 23
        }
      ]
    },
    {
      "cell_type": "markdown",
      "metadata": {
        "id": "mWnq1PxG8LHZ"
      },
      "source": [
        "# Sequential Model로 MNIST 분류기 만들기"
      ]
    },
    {
      "cell_type": "code",
      "metadata": {
        "colab": {
          "base_uri": "https://localhost:8080/"
        },
        "id": "KJ0WRVBJEtaG",
        "outputId": "a9c4474d-5446-471e-c6c5-63d50ef01794"
      },
      "source": [
        "from tensorflow.keras.models import Sequential\n",
        "from tensorflow.keras.layers import Conv2D, ReLU, MaxPool2D, Flatten, Dense, Input\n",
        "\n",
        "model = Sequential([\n",
        "  Input(shape=(28, 28, 1)),\n",
        "  Conv2D(filters=32, kernel_size=3, padding='SAME'),\n",
        "  ReLU(),\n",
        "  Conv2D(filters=32, kernel_size=3, padding='SAME'),\n",
        "  ReLU(),\n",
        "  MaxPool2D(pool_size=(2, 2)),\n",
        "\n",
        "  Conv2D(filters=64, kernel_size=3, padding='SAME', activation='relu'),\n",
        "  Conv2D(filters=64, kernel_size=3, padding='SAME', activation='relu'),\n",
        "  MaxPool2D(pool_size=(2, 2)),\n",
        "\n",
        "  Flatten(),\n",
        "\n",
        "  Dense(512, activation='relu'),\n",
        "  Dense(10, activation='softmax')\n",
        "])\n",
        "\n",
        "model.summary()"
      ],
      "execution_count": 24,
      "outputs": [
        {
          "output_type": "stream",
          "name": "stdout",
          "text": [
            "Model: \"sequential\"\n",
            "_________________________________________________________________\n",
            " Layer (type)                Output Shape              Param #   \n",
            "=================================================================\n",
            " conv2d_3 (Conv2D)           (None, 28, 28, 32)        320       \n",
            "                                                                 \n",
            " re_lu_1 (ReLU)              (None, 28, 28, 32)        0         \n",
            "                                                                 \n",
            " conv2d_4 (Conv2D)           (None, 28, 28, 32)        9248      \n",
            "                                                                 \n",
            " re_lu_2 (ReLU)              (None, 28, 28, 32)        0         \n",
            "                                                                 \n",
            " max_pooling2d_1 (MaxPoolin  (None, 14, 14, 32)        0         \n",
            " g2D)                                                            \n",
            "                                                                 \n",
            " conv2d_5 (Conv2D)           (None, 14, 14, 64)        18496     \n",
            "                                                                 \n",
            " conv2d_6 (Conv2D)           (None, 14, 14, 64)        36928     \n",
            "                                                                 \n",
            " max_pooling2d_2 (MaxPoolin  (None, 7, 7, 64)          0         \n",
            " g2D)                                                            \n",
            "                                                                 \n",
            " flatten_1 (Flatten)         (None, 3136)              0         \n",
            "                                                                 \n",
            " dense_2 (Dense)             (None, 512)               1606144   \n",
            "                                                                 \n",
            " dense_3 (Dense)             (None, 10)                5130      \n",
            "                                                                 \n",
            "=================================================================\n",
            "Total params: 1676266 (6.39 MB)\n",
            "Trainable params: 1676266 (6.39 MB)\n",
            "Non-trainable params: 0 (0.00 Byte)\n",
            "_________________________________________________________________\n"
          ]
        }
      ]
    },
    {
      "cell_type": "code",
      "metadata": {
        "id": "aeAAu-q0GBHS"
      },
      "source": [
        "model.compile(\n",
        "    optimizer='adam',\n",
        "    loss='sparse_categorical_crossentropy',\n",
        "    metrics=['acc']\n",
        ")"
      ],
      "execution_count": 25,
      "outputs": []
    },
    {
      "cell_type": "code",
      "metadata": {
        "colab": {
          "base_uri": "https://localhost:8080/"
        },
        "id": "MmPvRNZ-HJGT",
        "outputId": "7206dcf6-2bab-4ed1-90f1-a64182318887"
      },
      "source": [
        "X_train.shape, y_train.shape"
      ],
      "execution_count": 26,
      "outputs": [
        {
          "output_type": "execute_result",
          "data": {
            "text/plain": [
              "((60000, 28, 28), (60000,))"
            ]
          },
          "metadata": {},
          "execution_count": 26
        }
      ]
    },
    {
      "cell_type": "code",
      "metadata": {
        "colab": {
          "base_uri": "https://localhost:8080/"
        },
        "id": "ZhZ24TsMHMsp",
        "outputId": "7fe93118-1aaf-449b-b84f-33391676fc79"
      },
      "source": [
        "# X 데이터에 채널 차원 추가\n",
        "X_train = X_train[..., tf.newaxis]\n",
        "X_test  = X_test[..., tf.newaxis]\n",
        "\n",
        "X_train.shape, X_test.shape"
      ],
      "execution_count": 27,
      "outputs": [
        {
          "output_type": "execute_result",
          "data": {
            "text/plain": [
              "((60000, 28, 28, 1), (10000, 28, 28, 1))"
            ]
          },
          "metadata": {},
          "execution_count": 27
        }
      ]
    },
    {
      "cell_type": "code",
      "metadata": {
        "id": "oGUN5my8HVUF"
      },
      "source": [
        "# 이미지 정규화 작업\n",
        "# 255.0 으로 나눠주면 된다.\n",
        "\n",
        "X_train = X_train / 255.0\n",
        "X_test = X_test / 255.0"
      ],
      "execution_count": 28,
      "outputs": []
    },
    {
      "cell_type": "code",
      "metadata": {
        "colab": {
          "base_uri": "https://localhost:8080/"
        },
        "id": "hsHaBMB5Hf-H",
        "outputId": "1be5c8d5-1dde-44b1-d75e-406bf370674b"
      },
      "source": [
        "model.fit(X_train,\n",
        "          y_train,\n",
        "          validation_split=0.2,\n",
        "          epochs=10,\n",
        "          batch_size=32,\n",
        "          shuffle=True)"
      ],
      "execution_count": 29,
      "outputs": [
        {
          "output_type": "stream",
          "name": "stdout",
          "text": [
            "Epoch 1/10\n",
            "1500/1500 [==============================] - 12s 5ms/step - loss: 0.1115 - acc: 0.9650 - val_loss: 0.0523 - val_acc: 0.9843\n",
            "Epoch 2/10\n",
            "1500/1500 [==============================] - 8s 5ms/step - loss: 0.0408 - acc: 0.9875 - val_loss: 0.0378 - val_acc: 0.9888\n",
            "Epoch 3/10\n",
            "1500/1500 [==============================] - 7s 5ms/step - loss: 0.0253 - acc: 0.9924 - val_loss: 0.0407 - val_acc: 0.9895\n",
            "Epoch 4/10\n",
            "1500/1500 [==============================] - 7s 5ms/step - loss: 0.0205 - acc: 0.9933 - val_loss: 0.0370 - val_acc: 0.9899\n",
            "Epoch 5/10\n",
            "1500/1500 [==============================] - 7s 5ms/step - loss: 0.0153 - acc: 0.9949 - val_loss: 0.0543 - val_acc: 0.9882\n",
            "Epoch 6/10\n",
            "1500/1500 [==============================] - 8s 5ms/step - loss: 0.0128 - acc: 0.9961 - val_loss: 0.0362 - val_acc: 0.9919\n",
            "Epoch 7/10\n",
            "1500/1500 [==============================] - 8s 5ms/step - loss: 0.0105 - acc: 0.9965 - val_loss: 0.0516 - val_acc: 0.9902\n",
            "Epoch 8/10\n",
            "1500/1500 [==============================] - 8s 5ms/step - loss: 0.0096 - acc: 0.9969 - val_loss: 0.0432 - val_acc: 0.9912\n",
            "Epoch 9/10\n",
            "1500/1500 [==============================] - 8s 5ms/step - loss: 0.0079 - acc: 0.9975 - val_loss: 0.0545 - val_acc: 0.9896\n",
            "Epoch 10/10\n",
            "1500/1500 [==============================] - 7s 5ms/step - loss: 0.0093 - acc: 0.9972 - val_loss: 0.0502 - val_acc: 0.9904\n"
          ]
        },
        {
          "output_type": "execute_result",
          "data": {
            "text/plain": [
              "<keras.src.callbacks.History at 0x787c1e395a80>"
            ]
          },
          "metadata": {},
          "execution_count": 29
        }
      ]
    },
    {
      "cell_type": "markdown",
      "source": [
        "# 훈련 완료 후 필터 시각화"
      ],
      "metadata": {
        "id": "SvSuyizLsM94"
      }
    },
    {
      "cell_type": "code",
      "metadata": {
        "id": "lrztT8MjHrFD",
        "colab": {
          "base_uri": "https://localhost:8080/"
        },
        "outputId": "2ecf347f-47a6-4fb4-9402-8ad7ff49a110"
      },
      "source": [
        "conv_layers = [layer for layer in model.layers if layer.__class__.__name__ == \"Conv2D\"]\n",
        "conv_layers"
      ],
      "execution_count": 30,
      "outputs": [
        {
          "output_type": "execute_result",
          "data": {
            "text/plain": [
              "[<keras.src.layers.convolutional.conv2d.Conv2D at 0x787c42950ee0>,\n",
              " <keras.src.layers.convolutional.conv2d.Conv2D at 0x787c1e43d750>,\n",
              " <keras.src.layers.convolutional.conv2d.Conv2D at 0x787c1e228550>,\n",
              " <keras.src.layers.convolutional.conv2d.Conv2D at 0x787c1e228610>]"
            ]
          },
          "metadata": {},
          "execution_count": 30
        }
      ]
    },
    {
      "cell_type": "code",
      "source": [
        "for i, conv_layer in enumerate(conv_layers):\n",
        "  print(f\"{i+1} 층의 Conv Layer 필터\")\n",
        "\n",
        "  weights = conv_layer.get_weights()[0]\n",
        "\n",
        "  _, axes = plt.subplots(nrows=int(weights.shape[-1]/16), ncols=16, figsize=(10, int(weights.shape[-1]/16)))\n",
        "\n",
        "  for idx, ax in enumerate(axes.ravel()):\n",
        "    ax.set_xticks([])\n",
        "    ax.set_yticks([])\n",
        "    ax.imshow(weights[..., 0, idx])\n",
        "\n",
        "  plt.show()"
      ],
      "metadata": {
        "colab": {
          "base_uri": "https://localhost:8080/",
          "height": 980
        },
        "id": "E2kRyzaOqndQ",
        "outputId": "06bb5447-bbdf-44df-dfdb-cbf860d02b61"
      },
      "execution_count": 31,
      "outputs": [
        {
          "output_type": "stream",
          "name": "stdout",
          "text": [
            "1 층의 Conv Layer 필터\n"
          ]
        },
        {
          "output_type": "display_data",
          "data": {
            "text/plain": [
              "<Figure size 1000x200 with 32 Axes>"
            ],
            "image/png": "[encoded data removed]"
          },
          "metadata": {}
        },
        {
          "output_type": "stream",
          "name": "stdout",
          "text": [
            "2 층의 Conv Layer 필터\n"
          ]
        },
        {
          "output_type": "display_data",
          "data": {
            "text/plain": [
              "<Figure size 1000x200 with 32 Axes>"
            ],
            "image/png": "[encoded data removed]"
          },
          "metadata": {}
        },
        {
          "output_type": "stream",
          "name": "stdout",
          "text": [
            "3 층의 Conv Layer 필터\n"
          ]
        },
        {
          "output_type": "display_data",
          "data": {
            "text/plain": [
              "<Figure size 1000x400 with 64 Axes>"
            ],
            "image/png": "[encoded data removed]"
          },
          "metadata": {}
        },
        {
          "output_type": "stream",
          "name": "stdout",
          "text": [
            "4 층의 Conv Layer 필터\n"
          ]
        },
        {
          "output_type": "display_data",
          "data": {
            "text/plain": [
              "<Figure size 1000x400 with 64 Axes>"
            ],
            "image/png": "[encoded data removed]"
          },
          "metadata": {}
        }
      ]
    },
    {
      "cell_type": "code",
      "source": [
        "image = conv_layers[0](X_test[0].reshape(1, 28, 28, 1))\n",
        "\n",
        "plt.imshow(image[0,...,0], 'gray')\n",
        "plt.show()"
      ],
      "metadata": {
        "colab": {
          "base_uri": "https://localhost:8080/",
          "height": 430
        },
        "id": "OaTqIsdHqqov",
        "outputId": "2b22914d-0b74-4612-eabb-360a4beabe1b"
      },
      "execution_count": 32,
      "outputs": [
        {
          "output_type": "display_data",
          "data": {
            "text/plain": [
              "<Figure size 640x480 with 1 Axes>"
            ],
            "image/png": "[encoded data removed]"
          },
          "metadata": {}
        }
      ]
    },
    {
      "cell_type": "code",
      "source": [
        "\n"
      ],
      "metadata": {
        "id": "ugBSBa_Yx82l"
      },
      "execution_count": 32,
      "outputs": []
    }
  ]
}
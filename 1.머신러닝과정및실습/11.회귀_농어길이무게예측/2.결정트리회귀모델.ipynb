{
 "cells": [
  {
   "cell_type": "code",
   "execution_count": 7,
   "metadata": {},
   "outputs": [],
   "source": [
    "from sklearn.metrics import r2_score\n",
    "from sklearn.metrics import mean_squared_error\n",
    "from sklearn.metrics import mean_absolute_error\n",
    "from sklearn.metrics import mean_squared_log_error\n",
    "\n",
    "def evaluate_reg_all(y_test, y_predict):\n",
    "    MSE = mean_squared_error(y_test,y_predict,squared=True)\n",
    "    RMSE = mean_squared_error(y_test,y_predict,squared=False)\n",
    "    MAE = mean_absolute_error(y_test,y_predict)\n",
    "    R2 = r2_score(y_test,y_predict)\n",
    "    \n",
    "    print(f'MSE: {MSE:.3f}, RMSE: {RMSE:.3F}, MAE: {MAE:.3F}, R^2: {R2:.3F}')"
   ]
  },
  {
   "cell_type": "code",
   "execution_count": 9,
   "metadata": {},
   "outputs": [
    {
     "name": "stdout",
     "output_type": "stream",
     "text": [
      "MSE: 3804.405, RMSE: 61.680, MAE: 39.005, R^2: 0.961\n",
      "훈련_R2:0.989051273406744\n",
      "테스트_R20.961349482348819\n",
      "예측값:1066.6666666666667\n"
     ]
    }
   ],
   "source": [
    "import pandas as pd\n",
    "import numpy as np\n",
    "from sklearn.model_selection import train_test_split\n",
    "# from sklearn.metrics import r2_score\n",
    "# from sklearn.metrics import mean_squared_error\n",
    "# from sklearn.metrics import mean_absolute_error\n",
    "# from sklearn.metrics import mean_squared_log_error\n",
    "from sklearn.tree import DecisionTreeRegressor\n",
    "\n",
    "# 경고메세지 끄기\n",
    "import warnings\n",
    "warnings.filterwarnings(action='ignore')\n",
    "\n",
    "fish_df = pd.read_csv('./data/fish.csv')\n",
    "\n",
    "##########데이터 분석\n",
    "pass\n",
    "\n",
    "##########데이터 전처리\n",
    "\n",
    "y_data = fish_df['무게']\n",
    "x_data = fish_df.drop('무게',axis=1)  # fish_df['길이']로 하면 안됨.\n",
    "\n",
    "x_train, x_test, y_train, y_test = train_test_split(x_data, y_data, test_size=0.3, random_state=42)\n",
    "##########모델 생성\n",
    "\n",
    "model = DecisionTreeRegressor(random_state=43,max_depth=5) # (random_state=111,min_samples_leaf=2,max_depth=4)\n",
    "\n",
    "##########모델 학습\n",
    "\n",
    "model.fit(x_train, y_train)\n",
    "\n",
    "##########모델 검증\n",
    "\n",
    "# 모델 검증1. 함수로 출력\n",
    "print(f'훈련_R2: {model.score(x_train, y_train)}') \n",
    "print(f'테스트_R2: {model.score(x_test, y_test)}')\n",
    "\n",
    "y_predict = model.predict(x_test) ## 주의: 테스트 데이터에 대해 평가해야함!\n",
    "evaluate_reg_all(y_test,y_predict)\n",
    "\n",
    "# 모델 검증2. 직접 다양한 평가지표 출력\n",
    "# print('R2_train',model.score(x_train, y_train)) \n",
    "# print('R2_test',model.score(x_test, y_test)) \n",
    "# print('--------------------------------')\n",
    "# print('R2_test',r2_score(y_test, y_predict)) #0.8526379440119077\n",
    "# print('MSE',mean_squared_error(y_test, y_predict)) #1.694663643863061\n",
    "# print('RMSE',mean_squared_error(y_test,y_predict,squared=False))\n",
    "# print('MAE',mean_absolute_error(y_test, y_predict)) #1.010718237138116\n",
    "# # print('MSLE',mean_squared_log_error(y_test, y_predict)) #0.05501235501698321\n",
    "# print('--------------------------------')\n",
    "# print(model.score(x_train, y_train)) #0.9371680443381393\n",
    "# print(model.score(x_test, y_test)) #0.8324765337629763\n",
    "\n",
    "\n",
    "##########모델 예측\n",
    "\n",
    "x_real = np.array([\n",
    "    [50]\n",
    "])\n",
    "\n",
    "y_real_predict = model.predict(x_real)\n",
    "\n",
    "print(f'예측값:{y_real_predict[0]}')\n"
   ]
  },
  {
   "cell_type": "code",
   "execution_count": null,
   "metadata": {},
   "outputs": [],
   "source": []
  }
 ],
 "metadata": {
  "kernelspec": {
   "display_name": "Python 3",
   "language": "python",
   "name": "python3"
  },
  "language_info": {
   "codemirror_mode": {
    "name": "ipython",
    "version": 3
   },
   "file_extension": ".py",
   "mimetype": "text/x-python",
   "name": "python",
   "nbconvert_exporter": "python",
   "pygments_lexer": "ipython3",
   "version": "3.10.11"
  },
  "orig_nbformat": 4
 },
 "nbformat": 4,
 "nbformat_minor": 2
}

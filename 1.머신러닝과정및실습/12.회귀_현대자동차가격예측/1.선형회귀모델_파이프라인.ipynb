{
 "cells": [
  {
   "cell_type": "markdown",
   "metadata": {},
   "source": [
    "`직접 transform 안하고 내부적으로 transform 진행하는 skicit-learn으로 진행하는 방법으로 구현`"
   ]
  },
  {
   "cell_type": "code",
   "execution_count": 1,
   "metadata": {},
   "outputs": [],
   "source": [
    "from sklearn.metrics import r2_score\n",
    "from sklearn.metrics import mean_squared_error\n",
    "from sklearn.metrics import mean_absolute_error\n",
    "from sklearn.metrics import mean_squared_log_error\n",
    "\n",
    "def evaluate_reg_all(y_test, y_predict):\n",
    "    MSE = mean_squared_error(y_test,y_predict,squared=True)\n",
    "    RMSE = mean_squared_error(y_test,y_predict,squared=False)\n",
    "    MAE = mean_absolute_error(y_test,y_predict)\n",
    "    R2 = r2_score(y_test,y_predict)\n",
    "    \n",
    "    print(f'MSE: {MSE:.3f}, RMSE: {RMSE:.3F}, MAE: {MAE:.3F}, R^2: {R2:.3F}')"
   ]
  },
  {
   "cell_type": "code",
   "execution_count": 6,
   "metadata": {},
   "outputs": [
    {
     "name": "stdout",
     "output_type": "stream",
     "text": [
      "훈련_R2: 0.8849618214729724\n",
      "테스트_R2: 0.7746849250515475\n",
      "----------------------------------------------------------------\n",
      "MSE: 1397856.930, RMSE: 1182.310, MAE: 570.120, R^2: 0.775\n",
      "----------------------------------------------------------------\n",
      "예측값: 1796.2824454478687\n"
     ]
    }
   ],
   "source": [
    "import pandas as pd\n",
    "from sklearn.preprocessing import OneHotEncoder\n",
    "from sklearn.compose import make_column_transformer\n",
    "from sklearn.linear_model import LinearRegression\n",
    "from sklearn.pipeline import make_pipeline\n",
    "import numpy as np\n",
    "\n",
    "# 학습 단계\n",
    "## 데이터 로드\n",
    "\n",
    "train_df = pd.read_csv('./data/train_pre.csv')\n",
    "test_df = pd.read_csv('./data/test.csv')\n",
    "\n",
    "## 데이터 분석\n",
    "\n",
    "## 데이터 전처리\n",
    "\n",
    "x_train = train_df.drop(['가격'], axis=1)\n",
    "x_test = test_df.drop(['가격'], axis=1)\n",
    "y_train = train_df['가격']\n",
    "y_test = test_df['가격']\n",
    "\n",
    "# print(x_train.head())\n",
    "'''\n",
    "     년식  종류    연비   마력    토크   연료  하이브리드   배기량    중량 변속기\n",
    "0  2015  대형   6.8  159  23.0  LPG      0  2359  1935  수동\n",
    "1  2012  소형  13.3  108  13.9  가솔린      0  1396  1035  자동\n",
    "2  2015  중형  14.4  184  41.0   디젤      0  1995  1792  자동\n",
    "3  2015  대형  10.9  175  46.0   디젤      0  2497  2210  수동\n",
    "4  2015  대형   6.4  159  23.0  LPG      0  2359  1935  자동\n",
    "'''\n",
    "# print(x_train.columns)\n",
    "'''Index(['년식', '종류', '연비', '마력', '토크', '연료', '하이브리드', '배기량', '중량', '변속기'], dtype='object')'''\n",
    "\n",
    "\n",
    "transformer = make_column_transformer(\n",
    "    (OneHotEncoder(), ['종류', '연료', '변속기']),\n",
    "    remainder='passthrough')\n",
    "\n",
    "## 모델 생성\n",
    "\n",
    "#파이프라인을 이용하여 전처리와 모델 순차적으로 실행되도록 함\n",
    "model = make_pipeline(transformer,LinearRegression())  # 데이터가 transform 먼저한 후에 model에 들어옴\n",
    "\n",
    "## 모델 학습\n",
    "\n",
    "model.fit(x_train, y_train)\n",
    "\n",
    "## 모델 검증\n",
    "\n",
    "print(f'훈련_R2: {model.score(x_train, y_train)}') \n",
    "print(f'테스트_R2: {model.score(x_test, y_test)}') \n",
    "print('----------------------------------------------------------------')\n",
    "## 모델 평가 (회귀모델 평가지표 출력)\n",
    "y_predict = model.predict(x_test) ## 주의: 테스트 데이터에 대해 평가해야함!\n",
    "evaluate_reg_all(y_test,y_predict)\n",
    "print('----------------------------------------------------------------')\n",
    "\n",
    "# 예측 단계(모델 예측)\n",
    "\n",
    "## 신규 데이터 수집\n",
    "x_real = np.array([\n",
    "    [2015, '대형', 6.8, 159, 23, 'LPG', 0,2359, 1935, '수동']\n",
    "])\n",
    "\n",
    "x_real_df = pd.DataFrame(x_real, columns=['년식', '종류', '연비', '마력', '토크', '연료', '하이브리드', '배기량', '중량', '변속기'])\n",
    "\n",
    "# 인코딩 및 결과 -> 인코딩이 model 안에 들어가 있어서 transform 필요없음.\n",
    "y_predict = model.predict(x_real_df)  # model안에 trainsform까지 포함된 모델임. 따라서 transform 호출할 필요 없음.\n",
    "print(f'예측값: {y_predict[0]}')\n"
   ]
  },
  {
   "cell_type": "code",
   "execution_count": null,
   "metadata": {},
   "outputs": [],
   "source": []
  }
 ],
 "metadata": {
  "kernelspec": {
   "display_name": "Python 3",
   "language": "python",
   "name": "python3"
  },
  "language_info": {
   "codemirror_mode": {
    "name": "ipython",
    "version": 3
   },
   "file_extension": ".py",
   "mimetype": "text/x-python",
   "name": "python",
   "nbconvert_exporter": "python",
   "pygments_lexer": "ipython3",
   "version": "3.10.11"
  },
  "orig_nbformat": 4
 },
 "nbformat": 4,
 "nbformat_minor": 2
}

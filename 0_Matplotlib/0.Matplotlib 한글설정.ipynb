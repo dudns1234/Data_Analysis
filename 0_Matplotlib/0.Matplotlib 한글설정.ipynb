{
 "cells": [
  {
   "attachments": {},
   "cell_type": "markdown",
   "metadata": {},
   "source": [
    "# 한글폰트 설치"
   ]
  },
  {
   "cell_type": "code",
   "execution_count": 1,
   "metadata": {},
   "outputs": [],
   "source": [
    "# 일단 import \n",
    "%matplotlib inline  \n",
    "\n",
    "import matplotlib as mpl  # 기본 설정 만지는 용도\n",
    "import matplotlib.pyplot as plt  # 그래프 그리는 용도\n",
    "import matplotlib.font_manager as fm  # 폰트 관련 용도"
   ]
  },
  {
   "attachments": {},
   "cell_type": "markdown",
   "metadata": {},
   "source": [
    "## 한글 깨지는 것 확인하기"
   ]
  },
  {
   "cell_type": "code",
   "execution_count": 2,
   "metadata": {},
   "outputs": [
    {
     "data": {
      "text/plain": [
       "Text(0.5, 0, '시간(분)')"
      ]
     },
     "execution_count": 2,
     "metadata": {},
     "output_type": "execute_result"
    },
    {
     "name": "stderr",
     "output_type": "stream",
     "text": [
      "C:\\Users\\yujin\\AppData\\Roaming\\Python\\Python310\\site-packages\\IPython\\core\\events.py:93: UserWarning: Glyph 51452 (\\N{HANGUL SYLLABLE JU}) missing from current font.\n",
      "  func(*args, **kwargs)\n",
      "C:\\Users\\yujin\\AppData\\Roaming\\Python\\Python310\\site-packages\\IPython\\core\\events.py:93: UserWarning: Glyph 49885 (\\N{HANGUL SYLLABLE SIG}) missing from current font.\n",
      "  func(*args, **kwargs)\n",
      "C:\\Users\\yujin\\AppData\\Roaming\\Python\\Python310\\site-packages\\IPython\\core\\events.py:93: UserWarning: Glyph 44032 (\\N{HANGUL SYLLABLE GA}) missing from current font.\n",
      "  func(*args, **kwargs)\n",
      "C:\\Users\\yujin\\AppData\\Roaming\\Python\\Python310\\site-packages\\IPython\\core\\events.py:93: UserWarning: Glyph 44201 (\\N{HANGUL SYLLABLE GYEOG}) missing from current font.\n",
      "  func(*args, **kwargs)\n",
      "C:\\Users\\yujin\\AppData\\Roaming\\Python\\Python310\\site-packages\\IPython\\core\\events.py:93: UserWarning: Glyph 49884 (\\N{HANGUL SYLLABLE SI}) missing from current font.\n",
      "  func(*args, **kwargs)\n",
      "C:\\Users\\yujin\\AppData\\Roaming\\Python\\Python310\\site-packages\\IPython\\core\\events.py:93: UserWarning: Glyph 44036 (\\N{HANGUL SYLLABLE GAN}) missing from current font.\n",
      "  func(*args, **kwargs)\n",
      "C:\\Users\\yujin\\AppData\\Roaming\\Python\\Python310\\site-packages\\IPython\\core\\events.py:93: UserWarning: Glyph 48324 (\\N{HANGUL SYLLABLE BYEOL}) missing from current font.\n",
      "  func(*args, **kwargs)\n",
      "C:\\Users\\yujin\\AppData\\Roaming\\Python\\Python310\\site-packages\\IPython\\core\\events.py:93: UserWarning: Glyph 52628 (\\N{HANGUL SYLLABLE CU}) missing from current font.\n",
      "  func(*args, **kwargs)\n",
      "C:\\Users\\yujin\\AppData\\Roaming\\Python\\Python310\\site-packages\\IPython\\core\\events.py:93: UserWarning: Glyph 51060 (\\N{HANGUL SYLLABLE I}) missing from current font.\n",
      "  func(*args, **kwargs)\n",
      "C:\\Users\\yujin\\AppData\\Roaming\\Python\\Python310\\site-packages\\IPython\\core\\events.py:93: UserWarning: Glyph 48516 (\\N{HANGUL SYLLABLE BUN}) missing from current font.\n",
      "  func(*args, **kwargs)\n"
     ]
    },
    {
     "name": "stderr",
     "output_type": "stream",
     "text": [
      "C:\\Users\\yujin\\AppData\\Roaming\\Python\\Python310\\site-packages\\IPython\\core\\pylabtools.py:152: UserWarning: Glyph 51452 (\\N{HANGUL SYLLABLE JU}) missing from current font.\n",
      "  fig.canvas.print_figure(bytes_io, **kw)\n",
      "C:\\Users\\yujin\\AppData\\Roaming\\Python\\Python310\\site-packages\\IPython\\core\\pylabtools.py:152: UserWarning: Glyph 49885 (\\N{HANGUL SYLLABLE SIG}) missing from current font.\n",
      "  fig.canvas.print_figure(bytes_io, **kw)\n",
      "C:\\Users\\yujin\\AppData\\Roaming\\Python\\Python310\\site-packages\\IPython\\core\\pylabtools.py:152: UserWarning: Glyph 44032 (\\N{HANGUL SYLLABLE GA}) missing from current font.\n",
      "  fig.canvas.print_figure(bytes_io, **kw)\n",
      "C:\\Users\\yujin\\AppData\\Roaming\\Python\\Python310\\site-packages\\IPython\\core\\pylabtools.py:152: UserWarning: Glyph 44201 (\\N{HANGUL SYLLABLE GYEOG}) missing from current font.\n",
      "  fig.canvas.print_figure(bytes_io, **kw)\n",
      "C:\\Users\\yujin\\AppData\\Roaming\\Python\\Python310\\site-packages\\IPython\\core\\pylabtools.py:152: UserWarning: Glyph 49884 (\\N{HANGUL SYLLABLE SI}) missing from current font.\n",
      "  fig.canvas.print_figure(bytes_io, **kw)\n",
      "C:\\Users\\yujin\\AppData\\Roaming\\Python\\Python310\\site-packages\\IPython\\core\\pylabtools.py:152: UserWarning: Glyph 44036 (\\N{HANGUL SYLLABLE GAN}) missing from current font.\n",
      "  fig.canvas.print_figure(bytes_io, **kw)\n",
      "C:\\Users\\yujin\\AppData\\Roaming\\Python\\Python310\\site-packages\\IPython\\core\\pylabtools.py:152: UserWarning: Glyph 48324 (\\N{HANGUL SYLLABLE BYEOL}) missing from current font.\n",
      "  fig.canvas.print_figure(bytes_io, **kw)\n",
      "C:\\Users\\yujin\\AppData\\Roaming\\Python\\Python310\\site-packages\\IPython\\core\\pylabtools.py:152: UserWarning: Glyph 52628 (\\N{HANGUL SYLLABLE CU}) missing from current font.\n",
      "  fig.canvas.print_figure(bytes_io, **kw)\n",
      "C:\\Users\\yujin\\AppData\\Roaming\\Python\\Python310\\site-packages\\IPython\\core\\pylabtools.py:152: UserWarning: Glyph 51060 (\\N{HANGUL SYLLABLE I}) missing from current font.\n",
      "  fig.canvas.print_figure(bytes_io, **kw)\n",
      "C:\\Users\\yujin\\AppData\\Roaming\\Python\\Python310\\site-packages\\IPython\\core\\pylabtools.py:152: UserWarning: Glyph 48516 (\\N{HANGUL SYLLABLE BUN}) missing from current font.\n",
      "  fig.canvas.print_figure(bytes_io, **kw)\n"
     ]
    },
    {
     "data": {
      "image/png": "[encoded data removed]",
      "text/plain": [
       "<Figure size 600x400 with 1 Axes>"
      ]
     },
     "metadata": {},
     "output_type": "display_data"
    }
   ],
   "source": [
    "# 데이터 준비\n",
    "import numpy as np\n",
    "\n",
    "data = np.random.randint(-200, 100, 50).cumsum()\n",
    "data\n",
    "# 한글을 넣어놓고 그러보면 깨진다\n",
    "plt.figure(figsize=(6,4))\n",
    "plt.plot(range(50), data, 'r')\n",
    "plt.title('시간별 가격추이')\n",
    "plt.ylabel('주식가격')\n",
    "plt.xlabel('시간(분)')"
   ]
  },
  {
   "attachments": {},
   "cell_type": "markdown",
   "metadata": {},
   "source": [
    "## 시스템에 설치된 폰트 확인."
   ]
  },
  {
   "cell_type": "code",
   "execution_count": 3,
   "metadata": {},
   "outputs": [
    {
     "name": "stdout",
     "output_type": "stream",
     "text": [
      "sys_font number: 359\n",
      "['C:\\\\Windows\\\\Fonts\\\\CHILLER.TTF', 'C:\\\\Windows\\\\Fonts\\\\constan.ttf', 'C:\\\\Windows\\\\Fonts\\\\SHOWG.TTF', 'C:\\\\Windows\\\\Fonts\\\\COPRGTL.TTF', 'C:\\\\Windows\\\\Fonts\\\\Candarab.ttf', 'C:\\\\Windows\\\\Fonts\\\\corbelli.ttf', 'C:\\\\Windows\\\\Fonts\\\\H2PORM.TTF', 'C:\\\\Windows\\\\Fonts\\\\NirmalaS.ttf', 'C:\\\\Windows\\\\Fonts\\\\seguisym.ttf', 'C:\\\\Windows\\\\Fonts\\\\H2MJRE.TTF', 'C:\\\\Windows\\\\Fonts\\\\segoeui.ttf', 'C:\\\\Windows\\\\Fonts\\\\GOTHIC.TTF', 'C:\\\\Windows\\\\Fonts\\\\POORICH.TTF', 'C:\\\\Windows\\\\Fonts\\\\segoepr.ttf', 'C:\\\\Windows\\\\Fonts\\\\taileb.ttf', 'C:\\\\Windows\\\\Fonts\\\\BAUHS93.TTF', 'C:\\\\Windows\\\\Fonts\\\\seguisbi.ttf', 'C:\\\\Windows\\\\Fonts\\\\TCB_____.TTF', 'C:\\\\Windows\\\\Fonts\\\\BELL.TTF', 'C:\\\\Windows\\\\Fonts\\\\malgunsl.ttf', 'C:\\\\Windows\\\\Fonts\\\\LeelawUI.ttf', 'C:\\\\Windows\\\\Fonts\\\\constani.ttf', 'C:\\\\Windows\\\\Fonts\\\\calibri.ttf', 'C:\\\\Windows\\\\Fonts\\\\ARIALNI.TTF', 'C:\\\\Windows\\\\Fonts\\\\STENCIL.TTF', 'C:\\\\Windows\\\\Fonts\\\\corbeli.ttf', 'C:\\\\Windows\\\\Fonts\\\\ntailub.ttf', 'C:\\\\Windows\\\\Fonts\\\\LHANDW.TTF', 'C:\\\\Windows\\\\Fonts\\\\segmdl2.ttf', 'C:\\\\Windows\\\\Fonts\\\\PERTIBD.TTF', 'C:\\\\Windows\\\\Fonts\\\\LCALLIG.TTF', 'C:\\\\Windows\\\\Fonts\\\\HMFMMUEX.TTC', 'C:\\\\Windows\\\\Fonts\\\\monbaiti.ttf', 'C:\\\\Windows\\\\Fonts\\\\msjhl.ttc', 'C:\\\\Windows\\\\Fonts\\\\HMKMAMI.TTF', 'C:\\\\Windows\\\\Fonts\\\\Inkfree.ttf', 'C:\\\\Windows\\\\Fonts\\\\MSUIGHUR.TTF', 'C:\\\\Windows\\\\Fonts\\\\LBRITED.TTF', 'C:\\\\Windows\\\\Fonts\\\\GOUDOS.TTF', 'C:\\\\Windows\\\\Fonts\\\\couri.ttf', 'C:\\\\Windows\\\\Fonts\\\\arial.ttf', 'C:\\\\Windows\\\\Fonts\\\\FTLTLT.TTF', 'C:\\\\Windows\\\\Fonts\\\\WINGDNG3.TTF', 'C:\\\\Windows\\\\Fonts\\\\seguisb.ttf', 'C:\\\\Windows\\\\Fonts\\\\FRABK.TTF', 'C:\\\\Windows\\\\Fonts\\\\mmrtext.ttf', 'C:\\\\Windows\\\\Fonts\\\\MOD20.TTF', 'C:\\\\Windows\\\\Fonts\\\\GILC____.TTF', 'C:\\\\Windows\\\\Fonts\\\\cambriai.ttf', 'C:\\\\Windows\\\\Fonts\\\\phagspa.ttf', 'C:\\\\Windows\\\\Fonts\\\\verdanaz.ttf', 'C:\\\\Windows\\\\Fonts\\\\seguibli.ttf', 'C:\\\\Windows\\\\Fonts\\\\REFSPCL.TTF', 'C:\\\\Windows\\\\Fonts\\\\YuGothM.ttc', 'C:\\\\Windows\\\\Fonts\\\\GIGI.TTF', 'C:\\\\Windows\\\\Fonts\\\\georgiai.ttf', 'C:\\\\Windows\\\\Fonts\\\\segoeuii.ttf', 'C:\\\\Windows\\\\Fonts\\\\SitkaVF-Italic.ttf', 'C:\\\\Windows\\\\Fonts\\\\timesbi.ttf', 'C:\\\\Windows\\\\Fonts\\\\mingliub.ttc', 'C:\\\\Windows\\\\Fonts\\\\PERI____.TTF', 'C:\\\\Windows\\\\Fonts\\\\PLAYBILL.TTF', 'C:\\\\Windows\\\\Fonts\\\\H2GSRB.TTF', 'C:\\\\Windows\\\\Fonts\\\\georgiaz.ttf', 'C:\\\\Windows\\\\Fonts\\\\seguibl.ttf', 'C:\\\\Windows\\\\Fonts\\\\corbelz.ttf', 'C:\\\\Windows\\\\Fonts\\\\Candarali.ttf', 'C:\\\\Windows\\\\Fonts\\\\BOD_BI.TTF', 'C:\\\\Windows\\\\Fonts\\\\TCCEB.TTF', 'C:\\\\Windows\\\\Fonts\\\\ERASDEMI.TTF', 'C:\\\\Windows\\\\Fonts\\\\H2MJSM.TTF', 'C:\\\\Windows\\\\Fonts\\\\BOOKOSI.TTF', 'C:\\\\Windows\\\\Fonts\\\\ANTQUABI.TTF', 'C:\\\\Windows\\\\Fonts\\\\BOD_I.TTF', 'C:\\\\Windows\\\\Fonts\\\\MTEXTRA.TTF', 'C:\\\\Windows\\\\Fonts\\\\calibrib.ttf', 'C:\\\\Windows\\\\Fonts\\\\FRABKIT.TTF', 'C:\\\\Windows\\\\Fonts\\\\PRISTINA.TTF', 'C:\\\\Windows\\\\Fonts\\\\GOUDOSB.TTF', 'C:\\\\Windows\\\\Fonts\\\\palabi.ttf', 'C:\\\\Windows\\\\Fonts\\\\GILSANUB.TTF', 'C:\\\\Windows\\\\Fonts\\\\ROCKB.TTF', 'C:\\\\Windows\\\\Fonts\\\\ONYX.TTF', 'C:\\\\Windows\\\\Fonts\\\\RAGE.TTF', 'C:\\\\Windows\\\\Fonts\\\\CALIFB.TTF', 'C:\\\\Windows\\\\Fonts\\\\mmrtextb.ttf', 'C:\\\\Windows\\\\Fonts\\\\BOD_CR.TTF', 'C:\\\\Windows\\\\Fonts\\\\ERASMD.TTF', 'C:\\\\Windows\\\\Fonts\\\\framdit.ttf', 'C:\\\\Windows\\\\Fonts\\\\trebucbi.ttf', 'C:\\\\Windows\\\\Fonts\\\\BELLI.TTF', 'C:\\\\Windows\\\\Fonts\\\\lucon.ttf', 'C:\\\\Windows\\\\Fonts\\\\BOD_CI.TTF', 'C:\\\\Windows\\\\Fonts\\\\TCBI____.TTF', 'C:\\\\Windows\\\\Fonts\\\\SitkaVF.ttf', 'C:\\\\Windows\\\\Fonts\\\\SCHLBKB.TTF', 'C:\\\\Windows\\\\Fonts\\\\LTYPEBO.TTF', 'C:\\\\Windows\\\\Fonts\\\\Candaraz.ttf', 'C:\\\\Windows\\\\Fonts\\\\VINERITC.TTF', 'C:\\\\Windows\\\\Fonts\\\\CENTAUR.TTF', 'C:\\\\Windows\\\\Fonts\\\\BERNHC.TTF', 'C:\\\\Windows\\\\Fonts\\\\malgun.ttf', 'C:\\\\Windows\\\\Fonts\\\\LTYPEO.TTF', 'C:\\\\Windows\\\\Fonts\\\\symbol.ttf', 'C:\\\\Windows\\\\Fonts\\\\HMFMPYUN.TTF', 'C:\\\\Windows\\\\Fonts\\\\GOUDYSTO.TTF', 'C:\\\\Windows\\\\Fonts\\\\simsunb.ttf', 'C:\\\\Windows\\\\Fonts\\\\PARCHM.TTF', 'C:\\\\Windows\\\\Fonts\\\\H2HDRM.TTF', 'C:\\\\Windows\\\\Fonts\\\\calibril.ttf', 'C:\\\\Windows\\\\Fonts\\\\BROADW.TTF', 'C:\\\\Windows\\\\Fonts\\\\PAPYRUS.TTF', 'C:\\\\Windows\\\\Fonts\\\\CALIFI.TTF', 'C:\\\\Windows\\\\Fonts\\\\times.ttf', 'C:\\\\Windows\\\\Fonts\\\\trebuc.ttf', 'C:\\\\Windows\\\\Fonts\\\\SCHLBKBI.TTF', 'C:\\\\Windows\\\\Fonts\\\\ITCEDSCR.TTF', 'C:\\\\Windows\\\\Fonts\\\\LSANS.TTF', 'C:\\\\Windows\\\\Fonts\\\\msyi.ttf', 'C:\\\\Windows\\\\Fonts\\\\H2MKPB.TTF', 'C:\\\\Windows\\\\Fonts\\\\Gabriola.ttf', 'C:\\\\Windows\\\\Fonts\\\\BRLNSDB.TTF', 'C:\\\\Windows\\\\Fonts\\\\arialbd.ttf', 'C:\\\\Windows\\\\Fonts\\\\segoeuib.ttf', 'C:\\\\Windows\\\\Fonts\\\\CALISTBI.TTF', 'C:\\\\Windows\\\\Fonts\\\\GILI____.TTF', 'C:\\\\Windows\\\\Fonts\\\\FRAMDCN.TTF', 'C:\\\\Windows\\\\Fonts\\\\FREESCPT.TTF', 'C:\\\\Windows\\\\Fonts\\\\holomdl2.ttf', 'C:\\\\Windows\\\\Fonts\\\\BASKVILL.TTF', 'C:\\\\Windows\\\\Fonts\\\\consolaz.ttf', 'C:\\\\Windows\\\\Fonts\\\\OUTLOOK.TTF', 'C:\\\\Windows\\\\Fonts\\\\calibrili.ttf', 'C:\\\\Windows\\\\Fonts\\\\impact.ttf', 'C:\\\\Windows\\\\Fonts\\\\LBRITEDI.TTF', 'C:\\\\Windows\\\\Fonts\\\\AGENCYR.TTF', 'C:\\\\Windows\\\\Fonts\\\\FRADM.TTF', 'C:\\\\Windows\\\\Fonts\\\\Nirmala.ttf', 'C:\\\\Windows\\\\Fonts\\\\ERASBD.TTF', 'C:\\\\Windows\\\\Fonts\\\\NIAGENG.TTF', 'C:\\\\Windows\\\\Fonts\\\\JOKERMAN.TTF', 'C:\\\\Windows\\\\Fonts\\\\bahnschrift.ttf', 'C:\\\\Windows\\\\Fonts\\\\HMKMMAG.TTF', 'C:\\\\Windows\\\\Fonts\\\\cambria.ttc', 'C:\\\\Windows\\\\Fonts\\\\CALISTB.TTF', 'C:\\\\Windows\\\\Fonts\\\\HARNGTON.TTF', 'C:\\\\Windows\\\\Fonts\\\\HTOWERTI.TTF', 'C:\\\\Windows\\\\Fonts\\\\malgunbd.ttf', 'C:\\\\Windows\\\\Fonts\\\\BRADHITC.TTF', 'C:\\\\Windows\\\\Fonts\\\\batang.ttc', 'C:\\\\Windows\\\\Fonts\\\\PALSCRI.TTF', 'C:\\\\Windows\\\\Fonts\\\\ELEPHNT.TTF', 'C:\\\\Windows\\\\Fonts\\\\LSANSI.TTF', 'C:\\\\Windows\\\\Fonts\\\\LBRITE.TTF', 'C:\\\\Windows\\\\Fonts\\\\HARLOWSI.TTF', 'C:\\\\Windows\\\\Fonts\\\\taile.ttf', 'C:\\\\Windows\\\\Fonts\\\\H2GTRM.TTF', 'C:\\\\Windows\\\\Fonts\\\\SansSerifCollection.ttf', 'C:\\\\Windows\\\\Fonts\\\\ITCBLKAD.TTF', 'C:\\\\Windows\\\\Fonts\\\\MAGNETOB.TTF', 'C:\\\\Windows\\\\Fonts\\\\MTCORSVA.TTF', 'C:\\\\Windows\\\\Fonts\\\\framd.ttf', 'C:\\\\Windows\\\\Fonts\\\\BRLNSR.TTF', 'C:\\\\Windows\\\\Fonts\\\\PERTILI.TTF', 'C:\\\\Windows\\\\Fonts\\\\verdana.ttf', 'C:\\\\Windows\\\\Fonts\\\\GLSNECB.TTF', 'C:\\\\Windows\\\\Fonts\\\\DUBAI-MEDIUM.TTF', 'C:\\\\Windows\\\\Fonts\\\\ebrimabd.ttf', 'C:\\\\Windows\\\\Fonts\\\\ENGR.TTF', 'C:\\\\Windows\\\\Fonts\\\\cour.ttf', 'C:\\\\Windows\\\\Fonts\\\\VIVALDII.TTF', 'C:\\\\Windows\\\\Fonts\\\\ELEPHNTI.TTF', 'C:\\\\Windows\\\\Fonts\\\\PERBI___.TTF', 'C:\\\\Windows\\\\Fonts\\\\CALIST.TTF', 'C:\\\\Windows\\\\Fonts\\\\segoeuiz.ttf', 'C:\\\\Windows\\\\Fonts\\\\FORTE.TTF', 'C:\\\\Windows\\\\Fonts\\\\segoeuil.ttf', 'C:\\\\Windows\\\\Fonts\\\\BRLNSB.TTF', 'C:\\\\Windows\\\\Fonts\\\\BOD_R.TTF', 'C:\\\\Windows\\\\Fonts\\\\LEELAWDB.TTF', 'C:\\\\Windows\\\\Fonts\\\\palab.ttf', 'C:\\\\Windows\\\\Fonts\\\\LSANSD.TTF', 'C:\\\\Windows\\\\Fonts\\\\OCRAEXT.TTF', 'C:\\\\Windows\\\\Fonts\\\\comic.ttf', 'C:\\\\Windows\\\\Fonts\\\\GOTHICBI.TTF', 'C:\\\\Windows\\\\Fonts\\\\GARAIT.TTF', 'C:\\\\Windows\\\\Fonts\\\\SegoeIcons.ttf', 'C:\\\\Windows\\\\Fonts\\\\ARIALNBI.TTF', 'C:\\\\Windows\\\\Fonts\\\\sylfaen.ttf', 'C:\\\\Windows\\\\Fonts\\\\SCHLBKI.TTF', 'C:\\\\Windows\\\\Fonts\\\\Candara.ttf', 'C:\\\\Windows\\\\Fonts\\\\webdings.ttf', 'C:\\\\Windows\\\\Fonts\\\\ERASLGHT.TTF', 'C:\\\\Windows\\\\Fonts\\\\BOD_BLAI.TTF', 'C:\\\\Windows\\\\Fonts\\\\calibrii.ttf', 'C:\\\\Windows\\\\Fonts\\\\BOD_CB.TTF', 'C:\\\\Windows\\\\Fonts\\\\msyh.ttc', 'C:\\\\Windows\\\\Fonts\\\\ROCKEB.TTF', 'C:\\\\Windows\\\\Fonts\\\\CENTURY.TTF', 'C:\\\\Windows\\\\Fonts\\\\comicbd.ttf', 'C:\\\\Windows\\\\Fonts\\\\BOD_PSTC.TTF', 'C:\\\\Windows\\\\Fonts\\\\LFAXI.TTF', 'C:\\\\Windows\\\\Fonts\\\\LATINWD.TTF', 'C:\\\\Windows\\\\Fonts\\\\JUICE___.TTF', 'C:\\\\Windows\\\\Fonts\\\\segoeuisl.ttf', 'C:\\\\Windows\\\\Fonts\\\\ROCKI.TTF', 'C:\\\\Windows\\\\Fonts\\\\GOTHICI.TTF', 'C:\\\\Windows\\\\Fonts\\\\GILBI___.TTF', 'C:\\\\Windows\\\\Fonts\\\\H2GTRE.TTF', 'C:\\\\Windows\\\\Fonts\\\\H2SA1M.TTF', 'C:\\\\Windows\\\\Fonts\\\\wingding.ttf', 'C:\\\\Windows\\\\Fonts\\\\segoesc.ttf', 'C:\\\\Windows\\\\Fonts\\\\LSANSDI.TTF', 'C:\\\\Windows\\\\Fonts\\\\LeelaUIb.ttf', 'C:\\\\Windows\\\\Fonts\\\\PERB____.TTF', 'C:\\\\Windows\\\\Fonts\\\\gulim.ttc', 'C:\\\\Windows\\\\Fonts\\\\H2PORL.TTF', 'C:\\\\Windows\\\\Fonts\\\\micross.ttf', 'C:\\\\Windows\\\\Fonts\\\\GILLUBCD.TTF', 'C:\\\\Windows\\\\Fonts\\\\GIL_____.TTF', 'C:\\\\Windows\\\\Fonts\\\\BRUSHSCI.TTF', 'C:\\\\Windows\\\\Fonts\\\\GARABD.TTF', 'C:\\\\Windows\\\\Fonts\\\\BELLB.TTF', 'C:\\\\Windows\\\\Fonts\\\\javatext.ttf', 'C:\\\\Windows\\\\Fonts\\\\DUBAI-REGULAR.TTF', 'C:\\\\Windows\\\\Fonts\\\\ARIALN.TTF', 'C:\\\\Windows\\\\Fonts\\\\FRSCRIPT.TTF', 'C:\\\\Windows\\\\Fonts\\\\INFROMAN.TTF', 'C:\\\\Windows\\\\Fonts\\\\NGULIM.TTF', 'C:\\\\Windows\\\\Fonts\\\\BOOKOSBI.TTF', 'C:\\\\Windows\\\\Fonts\\\\FRAHV.TTF', 'C:\\\\Windows\\\\Fonts\\\\HMFMOLD.TTF', 'C:\\\\Windows\\\\Fonts\\\\ANTQUAI.TTF', 'C:\\\\Windows\\\\Fonts\\\\FRAHVIT.TTF', 'C:\\\\Windows\\\\Fonts\\\\tahomabd.ttf', 'C:\\\\Windows\\\\Fonts\\\\phagspab.ttf', 'C:\\\\Windows\\\\Fonts\\\\pala.ttf', 'C:\\\\Windows\\\\Fonts\\\\palai.ttf', 'C:\\\\Windows\\\\Fonts\\\\timesbd.ttf', 'C:\\\\Windows\\\\Fonts\\\\SNAP____.TTF', 'C:\\\\Windows\\\\Fonts\\\\MISTRAL.TTF', 'C:\\\\Windows\\\\Fonts\\\\gadugi.ttf', 'C:\\\\Windows\\\\Fonts\\\\RAVIE.TTF', 'C:\\\\Windows\\\\Fonts\\\\REFSAN.TTF', 'C:\\\\Windows\\\\Fonts\\\\seguihis.ttf', 'C:\\\\Windows\\\\Fonts\\\\msgothic.ttc', 'C:\\\\Windows\\\\Fonts\\\\georgiab.ttf', 'C:\\\\Windows\\\\Fonts\\\\LFAX.TTF', 'C:\\\\Windows\\\\Fonts\\\\corbelb.ttf', 'C:\\\\Windows\\\\Fonts\\\\comici.ttf', 'C:\\\\Windows\\\\Fonts\\\\NirmalaB.ttf', 'C:\\\\Windows\\\\Fonts\\\\tahoma.ttf', 'C:\\\\Windows\\\\Fonts\\\\seguiemj.ttf', 'C:\\\\Windows\\\\Fonts\\\\Candaral.ttf', 'C:\\\\Windows\\\\Fonts\\\\BRITANIC.TTF', 'C:\\\\Windows\\\\Fonts\\\\HTOWERT.TTF', 'C:\\\\Windows\\\\Fonts\\\\YuGothL.ttc', 'C:\\\\Windows\\\\Fonts\\\\TCCM____.TTF', 'C:\\\\Windows\\\\Fonts\\\\msyhl.ttc', 'C:\\\\Windows\\\\Fonts\\\\courbi.ttf', 'C:\\\\Windows\\\\Fonts\\\\NIAGSOL.TTF', 'C:\\\\Windows\\\\Fonts\\\\HMKMRHD.TTF', 'C:\\\\Windows\\\\Fonts\\\\seguili.ttf', 'C:\\\\Windows\\\\Fonts\\\\ROCC____.TTF', 'C:\\\\Windows\\\\Fonts\\\\H2GPRM.TTF', 'C:\\\\Windows\\\\Fonts\\\\CALIFR.TTF', 'C:\\\\Windows\\\\Fonts\\\\ariali.ttf', 'C:\\\\Windows\\\\Fonts\\\\ntailu.ttf', 'C:\\\\Windows\\\\Fonts\\\\VLADIMIR.TTF', 'C:\\\\Windows\\\\Fonts\\\\trebucit.ttf', 'C:\\\\Windows\\\\Fonts\\\\cambriaz.ttf', 'C:\\\\Windows\\\\Fonts\\\\GLECB.TTF', 'C:\\\\Windows\\\\Fonts\\\\msjhbd.ttc', 'C:\\\\Windows\\\\Fonts\\\\msjh.ttc', 'C:\\\\Windows\\\\Fonts\\\\MAIAN.TTF', 'C:\\\\Windows\\\\Fonts\\\\COLONNA.TTF', 'C:\\\\Windows\\\\Fonts\\\\corbell.ttf', 'C:\\\\Windows\\\\Fonts\\\\segoeprb.ttf', 'C:\\\\Windows\\\\Fonts\\\\LEELAWAD.TTF', 'C:\\\\Windows\\\\Fonts\\\\calibriz.ttf', 'C:\\\\Windows\\\\Fonts\\\\ebrima.ttf', 'C:\\\\Windows\\\\Fonts\\\\GILB____.TTF', 'C:\\\\Windows\\\\Fonts\\\\consolab.ttf', 'C:\\\\Windows\\\\Fonts\\\\verdanai.ttf', 'C:\\\\Windows\\\\Fonts\\\\consolai.ttf', 'C:\\\\Windows\\\\Fonts\\\\TCM_____.TTF', 'C:\\\\Windows\\\\Fonts\\\\WINGDNG2.TTF', 'C:\\\\Windows\\\\Fonts\\\\CASTELAR.TTF', 'C:\\\\Windows\\\\Fonts\\\\KUNSTLER.TTF', 'C:\\\\Windows\\\\Fonts\\\\GOTHICB.TTF', 'C:\\\\Windows\\\\Fonts\\\\DUBAI-BOLD.TTF', 'C:\\\\Windows\\\\Fonts\\\\BOD_CBI.TTF', 'C:\\\\Windows\\\\Fonts\\\\YuGothR.ttc', 'C:\\\\Windows\\\\Fonts\\\\trebucbd.ttf', 'C:\\\\Windows\\\\Fonts\\\\MSUIGHUB.TTF', 'C:\\\\Windows\\\\Fonts\\\\constanz.ttf', 'C:\\\\Windows\\\\Fonts\\\\ARIALNB.TTF', 'C:\\\\Windows\\\\Fonts\\\\ANTQUAB.TTF', 'C:\\\\Windows\\\\Fonts\\\\ALGER.TTF', 'C:\\\\Windows\\\\Fonts\\\\courbd.ttf', 'C:\\\\Windows\\\\Fonts\\\\georgia.ttf', 'C:\\\\Windows\\\\Fonts\\\\DUBAI-LIGHT.TTF', 'C:\\\\Windows\\\\Fonts\\\\TCCB____.TTF', 'C:\\\\Windows\\\\Fonts\\\\FRADMCN.TTF', 'C:\\\\Windows\\\\Fonts\\\\seguisli.ttf', 'C:\\\\Windows\\\\Fonts\\\\himalaya.ttf', 'C:\\\\Windows\\\\Fonts\\\\BOOKOSB.TTF', 'C:\\\\Windows\\\\Fonts\\\\verdanab.ttf', 'C:\\\\Windows\\\\Fonts\\\\mvboli.ttf', 'C:\\\\Windows\\\\Fonts\\\\GOUDOSI.TTF', 'C:\\\\Windows\\\\Fonts\\\\AGENCYB.TTF', 'C:\\\\Windows\\\\Fonts\\\\BOOKOS.TTF', 'C:\\\\Windows\\\\Fonts\\\\ROCK.TTF', 'C:\\\\Windows\\\\Fonts\\\\corbel.ttf', 'C:\\\\Windows\\\\Fonts\\\\LTYPE.TTF', 'C:\\\\Windows\\\\Fonts\\\\TEMPSITC.TTF', 'C:\\\\Windows\\\\Fonts\\\\ROCKBI.TTF', 'C:\\\\Windows\\\\Fonts\\\\FRADMIT.TTF', 'C:\\\\Windows\\\\Fonts\\\\GARA.TTF', 'C:\\\\Windows\\\\Fonts\\\\YuGothB.ttc', 'C:\\\\Windows\\\\Fonts\\\\HATTEN.TTF', 'C:\\\\Windows\\\\Fonts\\\\consola.ttf', 'C:\\\\Windows\\\\Fonts\\\\ARLRDBD.TTF', 'C:\\\\Windows\\\\Fonts\\\\COOPBL.TTF', 'C:\\\\Windows\\\\Fonts\\\\LeelUIsl.ttf', 'C:\\\\Windows\\\\Fonts\\\\MATURASC.TTF', 'C:\\\\Windows\\\\Fonts\\\\CALISTI.TTF', 'C:\\\\Windows\\\\Fonts\\\\ariblk.ttf', 'C:\\\\Windows\\\\Fonts\\\\BOD_B.TTF', 'C:\\\\Windows\\\\Fonts\\\\SegUIVar.ttf', 'C:\\\\Windows\\\\Fonts\\\\segoescb.ttf', 'C:\\\\Windows\\\\Fonts\\\\l_10646.ttf', 'C:\\\\Windows\\\\Fonts\\\\cambriab.ttf', 'C:\\\\Windows\\\\Fonts\\\\FELIXTI.TTF', 'C:\\\\Windows\\\\Fonts\\\\BOD_BLAR.TTF', 'C:\\\\Windows\\\\Fonts\\\\comicz.ttf', 'C:\\\\Windows\\\\Fonts\\\\ROCCB___.TTF', 'C:\\\\Windows\\\\Fonts\\\\LFAXDI.TTF', 'C:\\\\Windows\\\\Fonts\\\\OLDENGL.TTF', 'C:\\\\Windows\\\\Fonts\\\\gadugib.ttf', 'C:\\\\Windows\\\\Fonts\\\\LTYPEB.TTF', 'C:\\\\Windows\\\\Fonts\\\\simsun.ttc', 'C:\\\\Windows\\\\Fonts\\\\CENSCBK.TTF', 'C:\\\\Windows\\\\Fonts\\\\IMPRISHA.TTF', 'C:\\\\Windows\\\\Fonts\\\\LFAXD.TTF', 'C:\\\\Windows\\\\Fonts\\\\msyhbd.ttc', 'C:\\\\Windows\\\\Fonts\\\\SCRIPTBL.TTF', 'C:\\\\Windows\\\\Fonts\\\\LBRITEI.TTF', 'C:\\\\Windows\\\\Fonts\\\\arialbi.ttf', 'C:\\\\Windows\\\\Fonts\\\\BSSYM7.TTF', 'C:\\\\Windows\\\\Fonts\\\\BKANT.TTF', 'C:\\\\Windows\\\\Fonts\\\\TCMI____.TTF', 'C:\\\\Windows\\\\Fonts\\\\constanb.ttf', 'C:\\\\Windows\\\\Fonts\\\\timesi.ttf', 'C:\\\\Windows\\\\Fonts\\\\CURLZ___.TTF', 'C:\\\\Windows\\\\Fonts\\\\PER_____.TTF', 'C:\\\\Windows\\\\Fonts\\\\Candarai.ttf', 'C:\\\\Windows\\\\Fonts\\\\COPRGTB.TTF', 'C:\\\\Windows\\\\Fonts\\\\ITCKRIST.TTF']\n",
      "nanum_font number: 0\n"
     ]
    },
    {
     "data": {
      "text/plain": [
       "[]"
      ]
     },
     "execution_count": 3,
     "metadata": {},
     "output_type": "execute_result"
    }
   ],
   "source": [
    "sys_font=fm.findSystemFonts()\n",
    "print(f\"sys_font number: {len(sys_font)}\")\n",
    "print(sys_font)\n",
    "\n",
    "font = [f for f in sys_font if 'Nanum' in f]  #나눔폰트찾기\n",
    "print(f\"nanum_font number: {len(font)}\")\n",
    "\n",
    "font"
   ]
  },
  {
   "cell_type": "code",
   "execution_count": 4,
   "metadata": {},
   "outputs": [
    {
     "name": "stdout",
     "output_type": "stream",
     "text": [
      "Malgun_font number: 3\n"
     ]
    },
    {
     "data": {
      "text/plain": [
       "['C:\\\\Windows\\\\Fonts\\\\malgunsl.ttf',\n",
       " 'C:\\\\Windows\\\\Fonts\\\\malgun.ttf',\n",
       " 'C:\\\\Windows\\\\Fonts\\\\malgunbd.ttf']"
      ]
     },
     "execution_count": 4,
     "metadata": {},
     "output_type": "execute_result"
    }
   ],
   "source": [
    "font = [f for f in sys_font if 'malgun' in f]  #맑은폰트찾기\n",
    "print(f\"Malgun_font number: {len(font)}\")\n",
    "font"
   ]
  },
  {
   "attachments": {},
   "cell_type": "markdown",
   "metadata": {},
   "source": [
    "## matplotlib 글꼴 패밀리 검색"
   ]
  },
  {
   "cell_type": "code",
   "execution_count": 5,
   "metadata": {},
   "outputs": [
    {
     "data": {
      "text/plain": [
       "['sans-serif']"
      ]
     },
     "execution_count": 5,
     "metadata": {},
     "output_type": "execute_result"
    }
   ],
   "source": [
    "import matplotlib.pyplot as plt\n",
    "import matplotlib.font_manager as fm\n",
    "\n",
    "#메모리 상에 현재 설정되어 있는 폰트 패밀리 이름\n",
    "font_family = plt.rcParams['font.family'] \n",
    "font_family # -> ['sans-serif'] 한글을 지원하지 않음"
   ]
  },
  {
   "cell_type": "code",
   "execution_count": 6,
   "metadata": {},
   "outputs": [
    {
     "data": {
      "text/plain": [
       "{'ttf': 'C:\\\\Python\\\\python310\\\\Lib\\\\site-packages\\\\matplotlib\\\\mpl-data\\\\fonts\\\\ttf\\\\DejaVuSans.ttf',\n",
       " 'afm': 'C:\\\\Python\\\\python310\\\\Lib\\\\site-packages\\\\matplotlib\\\\mpl-data\\\\fonts\\\\pdfcorefonts\\\\Helvetica.afm'}"
      ]
     },
     "execution_count": 6,
     "metadata": {},
     "output_type": "execute_result"
    }
   ],
   "source": [
    "#맷플랏립의 기본 글꼴-> 한글표현 안 되겠쥬\n",
    "fm.FontManager().defaultFont\n"
   ]
  },
  {
   "cell_type": "code",
   "execution_count": 7,
   "metadata": {},
   "outputs": [
    {
     "data": {
      "text/plain": [
       "['NanumGothic']"
      ]
     },
     "execution_count": 7,
     "metadata": {},
     "output_type": "execute_result"
    }
   ],
   "source": [
    "# matplotlib 한글 폰트 오류 문제 해결 \n",
    "\n",
    "import matplotlib.font_manager as fm\n",
    "import matplotlib.pyplot as plt\n",
    "\n",
    "#폰트파일위치 지정해서 설정\n",
    "# font_path = 'C:\\\\Dev_mulcam1\\\\0.Matplotlib\\\\NanumGothic.ttf'\n",
    "font_path = './NanumGothic.ttf'\n",
    "font_name = fm.FontProperties(fname=font_path).get_name()\n",
    "\n",
    "#폰트 설정\n",
    "plt.rc('font', family=font_name)\n",
    "\n",
    "# 마이너스 깨짐 현상 해결\n",
    "plt.rcParams['axes.unicode_minus'] = False\n",
    "\n",
    "# matplotlib 폰트 패밀리 출력\n",
    "plt.rcParams['font.family']"
   ]
  },
  {
   "cell_type": "code",
   "execution_count": 10,
   "metadata": {},
   "outputs": [
    {
     "data": {
      "text/plain": [
       "Text(0.5, 0, '시간(분)')"
      ]
     },
     "execution_count": 10,
     "metadata": {},
     "output_type": "execute_result"
    },
    {
     "name": "stderr",
     "output_type": "stream",
     "text": [
      "findfont: Font family 'NanumGothic' not found.\n"
     ]
    },
    {
     "name": "stderr",
     "output_type": "stream",
     "text": [
      "findfont: Font family 'NanumGothic' not found.\n",
      "findfont: Font family 'NanumGothic' not found.\n",
      "findfont: Font family 'NanumGothic' not found.\n",
      "findfont: Font family 'NanumGothic' not found.\n",
      "findfont: Font family 'NanumGothic' not found.\n",
      "findfont: Font family 'NanumGothic' not found.\n",
      "findfont: Font family 'NanumGothic' not found.\n",
      "findfont: Font family 'NanumGothic' not found.\n",
      "findfont: Font family 'NanumGothic' not found.\n",
      "findfont: Font family 'NanumGothic' not found.\n",
      "findfont: Font family 'NanumGothic' not found.\n",
      "findfont: Font family 'NanumGothic' not found.\n",
      "findfont: Font family 'NanumGothic' not found.\n",
      "findfont: Font family 'NanumGothic' not found.\n",
      "findfont: Font family 'NanumGothic' not found.\n",
      "findfont: Font family 'NanumGothic' not found.\n",
      "findfont: Font family 'NanumGothic' not found.\n",
      "findfont: Font family 'NanumGothic' not found.\n",
      "findfont: Font family 'NanumGothic' not found.\n",
      "findfont: Font family 'NanumGothic' not found.\n",
      "findfont: Font family 'NanumGothic' not found.\n",
      "findfont: Font family 'NanumGothic' not found.\n",
      "findfont: Font family 'NanumGothic' not found.\n",
      "findfont: Font family 'NanumGothic' not found.\n",
      "findfont: Font family 'NanumGothic' not found.\n",
      "findfont: Font family 'NanumGothic' not found.\n",
      "findfont: Font family 'NanumGothic' not found.\n",
      "findfont: Font family 'NanumGothic' not found.\n",
      "findfont: Font family 'NanumGothic' not found.\n",
      "findfont: Font family 'NanumGothic' not found.\n",
      "findfont: Font family 'NanumGothic' not found.\n",
      "findfont: Font family 'NanumGothic' not found.\n",
      "findfont: Font family 'NanumGothic' not found.\n",
      "findfont: Font family 'NanumGothic' not found.\n",
      "findfont: Font family 'NanumGothic' not found.\n",
      "findfont: Font family 'NanumGothic' not found.\n",
      "findfont: Font family 'NanumGothic' not found.\n",
      "findfont: Font family 'NanumGothic' not found.\n",
      "findfont: Font family 'NanumGothic' not found.\n",
      "findfont: Font family 'NanumGothic' not found.\n",
      "findfont: Font family 'NanumGothic' not found.\n",
      "findfont: Font family 'NanumGothic' not found.\n",
      "findfont: Font family 'NanumGothic' not found.\n",
      "findfont: Font family 'NanumGothic' not found.\n",
      "findfont: Font family 'NanumGothic' not found.\n",
      "findfont: Font family 'NanumGothic' not found.\n",
      "findfont: Font family 'NanumGothic' not found.\n",
      "findfont: Font family 'NanumGothic' not found.\n",
      "findfont: Font family 'NanumGothic' not found.\n",
      "findfont: Font family 'NanumGothic' not found.\n",
      "findfont: Font family 'NanumGothic' not found.\n",
      "findfont: Font family 'NanumGothic' not found.\n",
      "findfont: Font family 'NanumGothic' not found.\n",
      "findfont: Font family 'NanumGothic' not found.\n",
      "findfont: Font family 'NanumGothic' not found.\n",
      "findfont: Font family 'NanumGothic' not found.\n",
      "findfont: Font family 'NanumGothic' not found.\n",
      "findfont: Font family 'NanumGothic' not found.\n",
      "findfont: Font family 'NanumGothic' not found.\n",
      "findfont: Font family 'NanumGothic' not found.\n",
      "findfont: Font family 'NanumGothic' not found.\n"
     ]
    },
    {
     "data": {
      "image/png": "[encoded data removed]",
      "text/plain": [
       "<Figure size 600x400 with 1 Axes>"
      ]
     },
     "metadata": {},
     "output_type": "display_data"
    }
   ],
   "source": [
    "# 데이터 준비\n",
    "import numpy as np\n",
    "import matplotlib.pyplot as plt\n",
    "import matplotlib as mpl  # 기본 설정 만지는 용도\n",
    "\n",
    "data = np.random.randint(-200, 100, 50).cumsum()\n",
    "data\n",
    "\n",
    "## 폰트 설정 및 마이너스 부호 설정\n",
    "plt.rc('font', family='NanumGothic') #나눔 글꼴로 설정 -> 시스템에 글꼴 설치했을 경우\n",
    "#plt.rc('font', family='Malgun Gothic') #맑은 고딕으로 설정\n",
    "#plt.rc('font', family='AppleGothic') #맥\n",
    "plt.rcParams['axes.unicode_minus'] = False #부호\n",
    "\n",
    "\n",
    "# 한글을 넣어놓고 그러보면 깨진다\n",
    "plt.figure(figsize=(6,4))\n",
    "plt.plot(range(50), data, 'r')\n",
    "plt.title('시간별 가격추이')\n",
    "plt.ylabel('주식가격')\n",
    "plt.xlabel('시간(분)')"
   ]
  }
 ],
 "metadata": {
  "kernelspec": {
   "display_name": "Python 3.9.12 ('base')",
   "language": "python",
   "name": "python3"
  },
  "language_info": {
   "codemirror_mode": {
    "name": "ipython",
    "version": 3
   },
   "file_extension": ".py",
   "mimetype": "text/x-python",
   "name": "python",
   "nbconvert_exporter": "python",
   "pygments_lexer": "ipython3",
   "version": "3.10.11"
  },
  "vscode": {
   "interpreter": {
    "hash": "ac553b53807d6059205a783708d1e08f61d049a184a5375569a266b0ccfc06c6"
   }
  }
 },
 "nbformat": 4,
 "nbformat_minor": 2
}
